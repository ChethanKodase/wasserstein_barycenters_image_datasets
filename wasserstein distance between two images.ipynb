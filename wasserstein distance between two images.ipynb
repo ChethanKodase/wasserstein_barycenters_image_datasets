{
 "cells": [
  {
   "cell_type": "code",
   "execution_count": 1,
   "id": "cf46f8c1",
   "metadata": {},
   "outputs": [],
   "source": [
    "import sympy as sp\n",
    "import minterpy as mp\n",
    "import numpy as np\n",
    "'''from minterpy.pointcloud_utils import *\n",
    "''''''\n",
    "from mpl_toolkits import mplot3d\n",
    "%matplotlib inline\n",
    "'''\n",
    "import torch\n",
    "import torchvision\n",
    "from torchvision import transforms, datasets\n",
    "\n",
    "import random\n",
    "import numpy as np\n",
    "import matplotlib.pyplot as plt\n",
    "\n",
    "'''import os\n",
    "''''''from operator import itemgetter\n",
    "'''\n",
    "device = torch.device('cuda' if torch.cuda.is_available() else 'cpu')\n",
    "\n",
    "import ot\n",
    "'''\n",
    "from sklearn.neighbors import NearestNeighbors\n",
    "\n",
    "import ripser\n",
    "import persim\n",
    "from persim import plot_diagrams'''\n",
    "\n",
    "'''from operator import itemgetter\n",
    "'''\n",
    "\n",
    "#do pip installs as follows to use vedo for plotting point clouds\n",
    "#pip install vedo\n",
    "#pip install ipyvtklink\n",
    "\n",
    "import numpy as np\n"
   ]
  },
  {
   "cell_type": "code",
   "execution_count": 2,
   "id": "b9465c0e",
   "metadata": {},
   "outputs": [],
   "source": [
    "def getFashionMNIST(batch_size = 120):\n",
    "    fashionmnist_data = torchvision.datasets.FashionMNIST(download=True, root = 'data/fashionmnist', transform = \n",
    "                                                                                 transforms.Compose([transforms.Resize(32),\n",
    "                                                                                 transforms.ToTensor(), \n",
    "                                                                                 transforms.Lambda(lambda x: x.repeat(1, 1, 1))\n",
    "                                                                                 ]))\n",
    "    train_loader = torch.utils.data.DataLoader(fashionmnist_data,\n",
    "                                              batch_size=batch_size,\n",
    "                                              shuffle=False,\n",
    "                                              num_workers=16)\n",
    "    return train_loader, train_loader\n",
    "\n",
    "\n",
    "\n",
    "def getDataset(dataset = \"MNIST\", batch_size = 120):\n",
    "    if(dataset == \"MNIST\"):\n",
    "        train_loader, test_loader = getMNIST(batch_size)\n",
    "        noChannels,dx, dy = train_loader.dataset.__getitem__(1)[0].shape\n",
    "    elif(dataset == \"FashionMNIST\"):\n",
    "        train_loader, test_loader = getFashionMNIST(batch_size)\n",
    "        noChannels, dx, dy = train_loader.dataset.__getitem__(1)[0].shape\n",
    "    elif(dataset == \"Cifar10\"):\n",
    "        train_loader, test_loader = getCifar10(batch_size)\n",
    "        noChannels, dx, dy = train_loader.dataset.__getitem__(1)[0].shape\n",
    "        \"\"\"\n",
    "    elif(dataset == \"cityscapes\"):\n",
    "        train_loader, test_loader = getcityscapes(batch_size)\n",
    "        noChannels, dx, dy = train_loader.dataset.__getitem__(1)[0].shape\n",
    "        \"\"\"\n",
    "    else:\n",
    "        return None, None, None, None, None    \n",
    "        \n",
    "    return train_loader, test_loader, noChannels, dx, dy"
   ]
  },
  {
   "cell_type": "code",
   "execution_count": 3,
   "id": "e8ecbd6b",
   "metadata": {},
   "outputs": [
    {
     "name": "stderr",
     "output_type": "stream",
     "text": [
      "/home/chethan/.local/lib/python3.9/site-packages/torchvision/datasets/mnist.py:498: UserWarning: The given NumPy array is not writeable, and PyTorch does not support non-writeable tensors. This means you can write to the underlying (supposedly non-writeable) NumPy array using the tensor. You may want to copy the array to protect its data or make it writeable before converting it to a tensor. This type of warning will be suppressed for the rest of this program. (Triggered internally at  ../torch/csrc/utils/tensor_numpy.cpp:180.)\n",
      "  return torch.from_numpy(parsed.astype(m[2], copy=False)).view(*s)\n"
     ]
    }
   ],
   "source": [
    "train_loader, test_loader, noChannels, dx, dy = getDataset(\"FashionMNIST\")  # FashionMNIST , MNIST"
   ]
  },
  {
   "cell_type": "code",
   "execution_count": 4,
   "id": "f246c796",
   "metadata": {},
   "outputs": [],
   "source": [
    "for inum, (batch_x, label) in enumerate(train_loader):\n",
    "    break\n",
    "    "
   ]
  },
  {
   "cell_type": "code",
   "execution_count": 5,
   "id": "41f224e8",
   "metadata": {},
   "outputs": [],
   "source": [
    "image1 = batch_x[0][0]\n",
    "\n",
    "image2 = batch_x[5][0]"
   ]
  },
  {
   "cell_type": "code",
   "execution_count": null,
   "id": "4ad117fb",
   "metadata": {},
   "outputs": [],
   "source": []
  },
  {
   "cell_type": "code",
   "execution_count": 6,
   "id": "d1928224",
   "metadata": {},
   "outputs": [
    {
     "name": "stderr",
     "output_type": "stream",
     "text": [
      "/tmp/ipykernel_112934/2542893104.py:2: UserWarning: To copy construct from a tensor, it is recommended to use sourceTensor.clone().detach() or sourceTensor.clone().detach().requires_grad_(True), rather than torch.tensor(sourceTensor).\n",
      "  plt.imshow(torch.tensor(image1).view(32,32))\n"
     ]
    },
    {
     "data": {
      "image/png": "[encoded data removed]",
      "text/plain": [
       "<Figure size 180x180 with 2 Axes>"
      ]
     },
     "metadata": {
      "needs_background": "light"
     },
     "output_type": "display_data"
    }
   ],
   "source": [
    "plt.figure(figsize=(2.5, 2.5))\n",
    "plt.imshow(torch.tensor(image1).view(32,32))\n",
    "plt.colorbar()\n",
    "plt.show()"
   ]
  },
  {
   "cell_type": "code",
   "execution_count": 7,
   "id": "fa61d98b",
   "metadata": {},
   "outputs": [
    {
     "name": "stderr",
     "output_type": "stream",
     "text": [
      "/tmp/ipykernel_112934/34225485.py:2: UserWarning: To copy construct from a tensor, it is recommended to use sourceTensor.clone().detach() or sourceTensor.clone().detach().requires_grad_(True), rather than torch.tensor(sourceTensor).\n",
      "  plt.imshow(torch.tensor(image2).view(32,32))\n"
     ]
    },
    {
     "data": {
      "image/png": "[encoded data removed]",
      "text/plain": [
       "<Figure size 180x180 with 2 Axes>"
      ]
     },
     "metadata": {
      "needs_background": "light"
     },
     "output_type": "display_data"
    }
   ],
   "source": [
    "plt.figure(figsize=(2.5, 2.5))\n",
    "plt.imshow(torch.tensor(image2).view(32,32))\n",
    "plt.colorbar()\n",
    "plt.show()"
   ]
  },
  {
   "cell_type": "markdown",
   "id": "4561bdf0",
   "metadata": {},
   "source": [
    "# Wasserstein distance by sinkhorn"
   ]
  },
  {
   "cell_type": "code",
   "execution_count": 8,
   "id": "0384e842",
   "metadata": {},
   "outputs": [],
   "source": [
    "def indices_array(n):\n",
    "    r = np.arange(n)\n",
    "    out = np.empty((n,n,2),dtype=int)\n",
    "    out[:,:,0] = r[:,None]\n",
    "    out[:,:,1] = r\n",
    "    return out"
   ]
  },
  {
   "cell_type": "code",
   "execution_count": 9,
   "id": "444802ec",
   "metadata": {},
   "outputs": [
    {
     "data": {
      "text/plain": [
       "(1024, 2)"
      ]
     },
     "execution_count": 9,
     "metadata": {},
     "output_type": "execute_result"
    }
   ],
   "source": [
    "imageIndices = indices_array(batch_x.shape[3]).reshape(32*32,2)\n",
    "imageIndices.shape"
   ]
  },
  {
   "cell_type": "code",
   "execution_count": 10,
   "id": "a8d874db",
   "metadata": {},
   "outputs": [],
   "source": [
    "Mm = [[np.sum((imageIndices[i] - imageIndices[j])**2) for i in range(len(imageIndices))] for j in range(len(imageIndices)) ]\n",
    "\n",
    "Mm = torch.tensor(Mm).type(torch.FloatTensor)"
   ]
  },
  {
   "cell_type": "code",
   "execution_count": 63,
   "id": "378d4270",
   "metadata": {},
   "outputs": [],
   "source": [
    "\n",
    "\n",
    "gs = ((image1 + 10**(-10)).reshape(1024,1)) / torch.sum((image1))\n",
    "h = ((image2 + 10**(-10)).reshape(1024,1)) / torch.sum((image2))\n",
    "\n",
    "# 10**(-10) added to avoid 0 / 0 sitiation \n",
    "\n",
    "wassDistance = ot.sinkhorn2(h, gs, Mm, 0.04)\n",
    "\n",
    "#0.09 is the regularization parameter. You can play around with it "
   ]
  },
  {
   "cell_type": "code",
   "execution_count": null,
   "id": "fb4ef4fc",
   "metadata": {},
   "outputs": [],
   "source": []
  },
  {
   "cell_type": "code",
   "execution_count": 64,
   "id": "211ff0d9",
   "metadata": {},
   "outputs": [
    {
     "data": {
      "text/plain": [
       "tensor([0.1575])"
      ]
     },
     "execution_count": 64,
     "metadata": {},
     "output_type": "execute_result"
    }
   ],
   "source": [
    "wassDistance"
   ]
  },
  {
   "cell_type": "code",
   "execution_count": 33,
   "id": "4501040b",
   "metadata": {},
   "outputs": [],
   "source": [
    "#ot.bregman.sinkhorn_log(h, gs, Mm, 0.09)"
   ]
  },
  {
   "cell_type": "code",
   "execution_count": null,
   "id": "695530bc",
   "metadata": {},
   "outputs": [],
   "source": []
  },
  {
   "cell_type": "code",
   "execution_count": null,
   "id": "4ee4d4d7",
   "metadata": {},
   "outputs": [],
   "source": []
  },
  {
   "cell_type": "markdown",
   "id": "fcda5512",
   "metadata": {},
   "source": [
    "# Sliced Wasserstein distance between Images"
   ]
  },
  {
   "cell_type": "code",
   "execution_count": 38,
   "id": "ab69283a",
   "metadata": {},
   "outputs": [],
   "source": [
    "wassDistance_sliced = ot.sliced_wasserstein_distance(image1, image2, seed=0,)  \n"
   ]
  },
  {
   "cell_type": "code",
   "execution_count": 39,
   "id": "890a539b",
   "metadata": {},
   "outputs": [
    {
     "data": {
      "text/plain": [
       "tensor(0.3561)"
      ]
     },
     "execution_count": 39,
     "metadata": {},
     "output_type": "execute_result"
    }
   ],
   "source": [
    "wassDistance_sliced"
   ]
  },
  {
   "cell_type": "code",
   "execution_count": 16,
   "id": "59d0c02f",
   "metadata": {},
   "outputs": [],
   "source": [
    "# Sliced wasserstein distance seems is faster and efficient "
   ]
  },
  {
   "cell_type": "code",
   "execution_count": null,
   "id": "d6bf5d28",
   "metadata": {},
   "outputs": [],
   "source": []
  }
 ],
 "metadata": {
  "kernelspec": {
   "display_name": "Python 3 (ipykernel)",
   "language": "python",
   "name": "python3"
  },
  "language_info": {
   "codemirror_mode": {
    "name": "ipython",
    "version": 3
   },
   "file_extension": ".py",
   "mimetype": "text/x-python",
   "name": "python",
   "nbconvert_exporter": "python",
   "pygments_lexer": "ipython3",
   "version": "3.9.7"
  }
 },
 "nbformat": 4,
 "nbformat_minor": 5
}
